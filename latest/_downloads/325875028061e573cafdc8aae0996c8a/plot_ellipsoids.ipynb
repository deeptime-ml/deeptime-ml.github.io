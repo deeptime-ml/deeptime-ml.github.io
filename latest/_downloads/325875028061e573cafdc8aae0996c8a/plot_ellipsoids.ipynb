{
  "cells": [
    {
      "cell_type": "code",
      "execution_count": null,
      "metadata": {
        "collapsed": false
      },
      "outputs": [],
      "source": [
        "%matplotlib inline"
      ]
    },
    {
      "cell_type": "markdown",
      "metadata": {},
      "source": [
        "\n# Ellipsoids dataset\n\nThe :meth:`deeptime.data.ellipsoids` dataset.\n"
      ]
    },
    {
      "cell_type": "code",
      "execution_count": null,
      "metadata": {
        "collapsed": false
      },
      "outputs": [],
      "source": [
        "import matplotlib.pyplot as plt\nimport numpy as np\nfrom scipy.stats import multivariate_normal\n\nfrom deeptime.data import ellipsoids\n\ndata_source = ellipsoids(seed=17)\nx = np.linspace(-10, 10, 1000)\ny = np.linspace(-10, 10, 1000)\nX, Y = np.meshgrid(x, y)\npos = np.empty(X.shape + (2,))\npos[:, :, 0] = X\npos[:, :, 1] = Y\nrv1 = multivariate_normal(data_source.state_0_mean, data_source.covariance_matrix)\nrv2 = multivariate_normal(data_source.state_1_mean, data_source.covariance_matrix)\n\nfig = plt.figure()\nax = fig.gca()\n\nax.contourf(X, Y, (rv1.pdf(pos) + rv2.pdf(pos)).reshape(len(x), len(y)))\nax.autoscale(False)\nax.set_aspect('equal')\nax.scatter(*data_source.observations(100).T, color='cyan', marker='x', label='samples')\nplt.grid()\nplt.title(r'Ellipsoids dataset observations with laziness of $0.97$.')\nplt.legend()"
      ]
    }
  ],
  "metadata": {
    "kernelspec": {
      "display_name": "Python 3",
      "language": "python",
      "name": "python3"
    },
    "language_info": {
      "codemirror_mode": {
        "name": "ipython",
        "version": 3
      },
      "file_extension": ".py",
      "mimetype": "text/x-python",
      "name": "python",
      "nbconvert_exporter": "python",
      "pygments_lexer": "ipython3",
      "version": "3.9.7"
    }
  },
  "nbformat": 4,
  "nbformat_minor": 0
}