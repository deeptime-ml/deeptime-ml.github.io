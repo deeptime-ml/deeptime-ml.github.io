{
  "cells": [
    {
      "cell_type": "code",
      "execution_count": null,
      "metadata": {
        "collapsed": false
      },
      "outputs": [],
      "source": [
        "%matplotlib inline"
      ]
    },
    {
      "cell_type": "markdown",
      "metadata": {},
      "source": [
        "\n# 2D contours from xyz\n\nThis example demonstrates how to plot unordered xyz data - in this case, particle positions (xy) and their energy (z) -\nas contour as well as a state map on the right-hand side depicting a decomposition into three coarse metastable states.\nSee :meth:`deeptime.plots.plot_contour2d_from_xyz`.\n"
      ]
    },
    {
      "cell_type": "code",
      "execution_count": null,
      "metadata": {
        "collapsed": false
      },
      "outputs": [],
      "source": [
        "import numpy as np\n\nimport matplotlib.pyplot as plt\n\nfrom deeptime.clustering import KMeans\nfrom deeptime.markov.msm import MaximumLikelihoodMSM\n\nfrom deeptime.data import triple_well_2d\nfrom deeptime.plots import plot_contour2d_from_xyz\n\nsystem = triple_well_2d(h=1e-3, n_steps=100)\ntrajs = system.trajectory(x0=[[-1, 0], [1, 0], [0, 0]], length=5000)\ntraj_concat = np.concatenate(trajs, axis=0)\n\nenergies = system.potential(traj_concat)\n\nclustering = KMeans(n_clusters=20).fit_fetch(traj_concat)\ndtrajs = [clustering.transform(traj) for traj in trajs]\n\nmsm = MaximumLikelihoodMSM(lagtime=1).fit(dtrajs).fetch_model()\npcca = msm.pcca(n_metastable_sets=3)\ncoarse_states = pcca.assignments[np.concatenate(dtrajs)]\n\nf, (ax1, ax2) = plt.subplots(1, 2)\nax1, mappable = plot_contour2d_from_xyz(*traj_concat.T, energies, contourf_kws=dict(cmap='coolwarm'), ax=ax1)\nax2, _ = plot_contour2d_from_xyz(*traj_concat.T, coarse_states, n_bins=200, ax=ax2)\nf.colorbar(mappable, ax=ax1)"
      ]
    }
  ],
  "metadata": {
    "kernelspec": {
      "display_name": "Python 3",
      "language": "python",
      "name": "python3"
    },
    "language_info": {
      "codemirror_mode": {
        "name": "ipython",
        "version": 3
      },
      "file_extension": ".py",
      "mimetype": "text/x-python",
      "name": "python",
      "nbconvert_exporter": "python",
      "pygments_lexer": "ipython3",
      "version": "3.10.6"
    }
  },
  "nbformat": 4,
  "nbformat_minor": 0
}