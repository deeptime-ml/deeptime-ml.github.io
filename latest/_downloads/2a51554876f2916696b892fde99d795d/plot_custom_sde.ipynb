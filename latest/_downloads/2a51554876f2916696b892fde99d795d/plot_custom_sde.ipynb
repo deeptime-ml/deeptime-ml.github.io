{
  "cells": [
    {
      "cell_type": "code",
      "execution_count": null,
      "metadata": {
        "collapsed": false
      },
      "outputs": [],
      "source": [
        "%matplotlib inline"
      ]
    },
    {
      "cell_type": "markdown",
      "metadata": {},
      "source": [
        "\n# Custom SDEs\n\nDemonstrating usage of :meth:`deeptime.data.custom_sde`.\n\nOne is able to define SDEs of the form\n\n\\begin{align}\\mathrm{d}X_t = F(X_t) \\mathrm{d}t + \\sigma\\mathrm{d}W_t\\end{align}\n\nfor $X_t\\in\\mathbb{R}^d$, $d\\in\\{1,2,3,4,5\\}$.\n"
      ]
    },
    {
      "cell_type": "code",
      "execution_count": null,
      "metadata": {
        "collapsed": false
      },
      "outputs": [],
      "source": [
        "import matplotlib.pyplot as plt\nimport numpy as np\n\nfrom deeptime.data import custom_sde\n\n\ndef harmonic_sphere_energy(x, radius=.5, k=1.):\n    dist_to_origin = np.linalg.norm(x, axis=-1)\n    dist_to_sphere = dist_to_origin - radius\n    energy = np.zeros((len(x),))\n    ixs = np.argwhere(dist_to_sphere > 0)[:, 0]\n    energy[ixs] = 0.5 * k * dist_to_sphere[ixs] ** 2\n    return energy\n\n\ndef harmonic_sphere_force(x, radius=.5, k=1.):\n    dist_to_origin = np.linalg.norm(x)\n    dist_to_sphere = dist_to_origin - radius\n    if dist_to_sphere > 0:\n        return -k * dist_to_sphere * np.array(x) / dist_to_origin\n    else:\n        return [0., 0.]\n\n\nsde = custom_sde(dim=2, rhs=lambda x: harmonic_sphere_force(x, radius=.5, k=1),\n                 sigma=np.diag([1., 1.]), h=1e-3, n_steps=100)\ntraj = sde.trajectory([[0., 0.]], 500)\n\nxy = np.arange(-3.5, 3.5, 0.1)\ncoords = np.dstack(np.meshgrid(xy, xy)).reshape(-1, 2)\npotential_landscape = harmonic_sphere_energy(coords).reshape((xy.shape[0], xy.shape[0]))\ncb = plt.contourf(xy, xy, potential_landscape, levels=50, cmap='coolwarm')\nplt.colorbar(cb)\n\nplt.plot(*traj.T, color='black')"
      ]
    }
  ],
  "metadata": {
    "kernelspec": {
      "display_name": "Python 3",
      "language": "python",
      "name": "python3"
    },
    "language_info": {
      "codemirror_mode": {
        "name": "ipython",
        "version": 3
      },
      "file_extension": ".py",
      "mimetype": "text/x-python",
      "name": "python",
      "nbconvert_exporter": "python",
      "pygments_lexer": "ipython3",
      "version": "3.9.6"
    }
  },
  "nbformat": 4,
  "nbformat_minor": 0
}