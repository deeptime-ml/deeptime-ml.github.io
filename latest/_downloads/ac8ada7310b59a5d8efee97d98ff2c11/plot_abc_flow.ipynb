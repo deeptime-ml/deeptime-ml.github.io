{
  "cells": [
    {
      "cell_type": "code",
      "execution_count": null,
      "metadata": {
        "collapsed": false
      },
      "outputs": [],
      "source": [
        "%matplotlib inline"
      ]
    },
    {
      "cell_type": "markdown",
      "metadata": {},
      "source": [
        "\n# Arnold-Beltrami-Childress flow\n\nExample for the :meth:`deeptime.data.abc_flow` dataset.\n"
      ]
    },
    {
      "cell_type": "code",
      "execution_count": null,
      "metadata": {
        "collapsed": false
      },
      "outputs": [],
      "source": [
        "import numpy as np\nfrom matplotlib import animation\n\nimport matplotlib.pyplot as plt\n\nfrom deeptime.data import abc_flow\n\n\ndef update(num):\n    data = scatters[num]\n    graph.set_data(data[:, 0], data[:, 1])\n    graph.set_3d_properties(data[:, 2])\n    return graph,\n\n\nsystem = abc_flow(n_steps=25)\nscatters = [np.random.uniform(np.pi-.5, np.pi+.5, size=(500, 3))]\nfor _ in range(50):\n    scatters.append(system(scatters[-1], n_jobs=8))\n\nscatters = np.array(scatters)\n\nf = plt.figure(figsize=(18, 18))\nax = f.add_subplot(1, 1, 1, projection='3d')\nax.set_title('Evolution of test points in the ABC flowfield')\ngraph, = ax.plot(*scatters[0].T, linestyle=\"\", marker=\"o\")\nax.set_xlim([0, 2*np.pi])\nax.set_ylim([0, 2*np.pi])\nax.set_zlim([0, 2*np.pi])\n\nani = animation.FuncAnimation(f, update, 50, interval=50, blit=True)"
      ]
    }
  ],
  "metadata": {
    "kernelspec": {
      "display_name": "Python 3",
      "language": "python",
      "name": "python3"
    },
    "language_info": {
      "codemirror_mode": {
        "name": "ipython",
        "version": 3
      },
      "file_extension": ".py",
      "mimetype": "text/x-python",
      "name": "python",
      "nbconvert_exporter": "python",
      "pygments_lexer": "ipython3",
      "version": "3.9.7"
    }
  },
  "nbformat": 4,
  "nbformat_minor": 0
}