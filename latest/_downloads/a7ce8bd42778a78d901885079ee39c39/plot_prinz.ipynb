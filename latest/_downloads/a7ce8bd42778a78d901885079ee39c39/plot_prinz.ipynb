{
  "cells": [
    {
      "cell_type": "code",
      "execution_count": null,
      "metadata": {
        "collapsed": false
      },
      "outputs": [],
      "source": [
        "%matplotlib inline"
      ]
    },
    {
      "cell_type": "markdown",
      "metadata": {},
      "source": [
        "\n# One-dimensional Prinz potential\n\nExample for the :meth:`deeptime.data.prinz_potential` dataset.\n"
      ]
    },
    {
      "cell_type": "code",
      "execution_count": null,
      "metadata": {
        "collapsed": false
      },
      "outputs": [],
      "source": [
        "import matplotlib.pyplot as plt\nimport numpy as np\nfrom deeptime.data import prinz_potential\n\nsystem = prinz_potential(n_steps=500, h=1e-5)\nxs = np.linspace(-1, 1, 1000)\nenergy = system.potential(xs.reshape((-1, 1)))\ntraj = system.trajectory([[0.]], 3000)\ndtraj = np.digitize(traj, bins=xs[:-1], right=False).squeeze()\nf, (ax1, ax2) = plt.subplots(1, 2, sharey=True)\nax1.plot(energy, xs)\nax1.set_ylabel('x coordinate')\nax1.set_xlabel('energy(x)')\nax2.plot(xs[dtraj])\nax2.set_xlabel('time (a.u.)')"
      ]
    }
  ],
  "metadata": {
    "kernelspec": {
      "display_name": "Python 3",
      "language": "python",
      "name": "python3"
    },
    "language_info": {
      "codemirror_mode": {
        "name": "ipython",
        "version": 3
      },
      "file_extension": ".py",
      "mimetype": "text/x-python",
      "name": "python",
      "nbconvert_exporter": "python",
      "pygments_lexer": "ipython3",
      "version": "3.9.6"
    }
  },
  "nbformat": 4,
  "nbformat_minor": 0
}