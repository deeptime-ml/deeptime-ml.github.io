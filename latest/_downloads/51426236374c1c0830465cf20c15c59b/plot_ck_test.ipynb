{
  "cells": [
    {
      "cell_type": "code",
      "execution_count": null,
      "metadata": {
        "collapsed": false
      },
      "outputs": [],
      "source": [
        "%matplotlib inline"
      ]
    },
    {
      "cell_type": "markdown",
      "metadata": {},
      "source": [
        "\n# Chapman-Kolmogorov test\n\nTests the Chapman-Kolmogorov equality, see :meth:`ck_test <deeptime.util.validation.ck_test>`.\n\nWe demonstrate how to re-use the view grid to overlay two CK tests.\n"
      ]
    },
    {
      "cell_type": "code",
      "execution_count": null,
      "metadata": {
        "collapsed": false
      },
      "outputs": [],
      "source": [
        "from deeptime.clustering import KMeans\nfrom deeptime.data import ellipsoids\nfrom deeptime.markov import TransitionCountEstimator\nfrom deeptime.markov.msm import BayesianMSM\nfrom deeptime.plots.chapman_kolmogorov import plot_ck_test\n\ntraj = ellipsoids().observations(500)\ntraj2 = ellipsoids().observations(500)\ndtraj = KMeans(n_clusters=15).fit_transform(traj)\ndtraj2 = KMeans(n_clusters=15).fit_transform(traj2)\n\nmodels = []\nmodels2 = []\nfor lag in [2, 3, 5, 13]:\n    counts_estimator = TransitionCountEstimator(lagtime=lag, count_mode='effective')\n    models.append(BayesianMSM().fit_fetch(counts_estimator.fit_fetch(dtraj).submodel_largest()))\n    models2.append(BayesianMSM().fit_fetch(counts_estimator.fit_fetch(dtraj2).submodel_largest()))\n\ntest_model = models[0]\nck_test = test_model.ck_test(models, n_metastable_sets=2)\ngrid = plot_ck_test(ck_test, legend=False)\n\ntest_model2 = models2[0]\nck_test = test_model2.ck_test(models2, n_metastable_sets=2)\nplot_ck_test(ck_test, legend=True, grid=grid)"
      ]
    }
  ],
  "metadata": {
    "kernelspec": {
      "display_name": "Python 3",
      "language": "python",
      "name": "python3"
    },
    "language_info": {
      "codemirror_mode": {
        "name": "ipython",
        "version": 3
      },
      "file_extension": ".py",
      "mimetype": "text/x-python",
      "name": "python",
      "nbconvert_exporter": "python",
      "pygments_lexer": "ipython3",
      "version": "3.10.6"
    }
  },
  "nbformat": 4,
  "nbformat_minor": 0
}