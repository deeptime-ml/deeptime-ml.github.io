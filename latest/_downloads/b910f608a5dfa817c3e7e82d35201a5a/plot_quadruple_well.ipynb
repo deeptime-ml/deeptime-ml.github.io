{
  "cells": [
    {
      "cell_type": "code",
      "execution_count": null,
      "metadata": {
        "collapsed": false
      },
      "outputs": [],
      "source": [
        "%matplotlib inline"
      ]
    },
    {
      "cell_type": "markdown",
      "metadata": {},
      "source": [
        "\n# Quadruple-well\n\nExample for the :meth:`deeptime.data.quadruple_well` dataset.\n"
      ]
    },
    {
      "cell_type": "code",
      "execution_count": null,
      "metadata": {
        "collapsed": false
      },
      "outputs": [],
      "source": [
        "import numpy as np\nimport scipy\nimport matplotlib.pyplot as plt\nfrom matplotlib.collections import LineCollection\n\nfrom deeptime.data import quadruple_well\n\nsystem = quadruple_well(n_steps=1000)\ntraj = system.trajectory(np.array([[1, -1]]), 100, seed=46)\n\nxy = np.arange(-2, 2, 0.1)\ncoords = np.dstack(np.meshgrid(xy, xy)).reshape(-1, 2)\nV = system.potential(coords).reshape((xy.shape[0], xy.shape[0]))\n\nfig, ax = plt.subplots(1, 1)\nax.set_title(\"Example of a trajectory in the potential landscape\")\n\ncb = ax.contourf(xy, xy, V, levels=np.linspace(0.0, 3.0, 20), cmap='coolwarm')\n\nx = np.r_[traj[:, 0]]\ny = np.r_[traj[:, 1]]\nf, u = scipy.interpolate.splprep([x, y], s=0, per=False)\nxint, yint = scipy.interpolate.splev(np.linspace(0, 1, 50000), f)\n\npoints = np.stack([xint, yint]).T.reshape(-1, 1, 2)\nsegments = np.concatenate([points[:-1], points[1:]], axis=1)\ncoll = LineCollection(segments, cmap='bwr')\ncoll.set_array(np.linspace(0, 1, num=len(points), endpoint=True))\ncoll.set_linewidth(1)\nax.add_collection(coll)\n\nfig.colorbar(cb)"
      ]
    }
  ],
  "metadata": {
    "kernelspec": {
      "display_name": "Python 3",
      "language": "python",
      "name": "python3"
    },
    "language_info": {
      "codemirror_mode": {
        "name": "ipython",
        "version": 3
      },
      "file_extension": ".py",
      "mimetype": "text/x-python",
      "name": "python",
      "nbconvert_exporter": "python",
      "pygments_lexer": "ipython3",
      "version": "3.8.8"
    }
  },
  "nbformat": 4,
  "nbformat_minor": 0
}