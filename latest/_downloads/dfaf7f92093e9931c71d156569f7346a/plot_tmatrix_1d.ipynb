{
  "cells": [
    {
      "cell_type": "code",
      "execution_count": null,
      "metadata": {
        "collapsed": false
      },
      "outputs": [],
      "source": [
        "%matplotlib inline"
      ]
    },
    {
      "cell_type": "markdown",
      "metadata": {},
      "source": [
        "\n# Metropolis chain in 1D energy landscape\n\nExample for :meth:`deeptime.data.tmatrix_metropolis1d`.\n"
      ]
    },
    {
      "cell_type": "code",
      "execution_count": null,
      "metadata": {
        "collapsed": false
      },
      "outputs": [],
      "source": [
        "import matplotlib.pyplot as plt\nimport numpy as np\n\nfrom deeptime.data import tmatrix_metropolis1d\nfrom deeptime.markov.msm import MarkovStateModel\n\nxs = np.linspace(-1.5, 1.5, num=100)\nenergies = 1/8 * (xs-1)**2 * (xs+1)**2\nenergies /= np.max(energies)\ntransition_matrix = tmatrix_metropolis1d(energies)\nmsm = MarkovStateModel(transition_matrix)\n\ntraj = msm.simulate(n_steps=1000000)\n\nplt.plot(xs, energies, color='C0', label='Energy')\nplt.plot(xs, energies, marker='x', color='C0')\nplt.hist(xs[traj], bins=100, density=True, alpha=.6, color='C1', label='Histogram over visited states')\nplt.legend()\nplt.show()"
      ]
    }
  ],
  "metadata": {
    "kernelspec": {
      "display_name": "Python 3",
      "language": "python",
      "name": "python3"
    },
    "language_info": {
      "codemirror_mode": {
        "name": "ipython",
        "version": 3
      },
      "file_extension": ".py",
      "mimetype": "text/x-python",
      "name": "python",
      "nbconvert_exporter": "python",
      "pygments_lexer": "ipython3",
      "version": "3.9.9"
    }
  },
  "nbformat": 4,
  "nbformat_minor": 0
}