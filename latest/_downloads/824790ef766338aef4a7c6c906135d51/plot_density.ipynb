{
  "cells": [
    {
      "cell_type": "code",
      "execution_count": null,
      "metadata": {
        "collapsed": false
      },
      "outputs": [],
      "source": [
        "%matplotlib inline"
      ]
    },
    {
      "cell_type": "markdown",
      "metadata": {},
      "source": [
        "\n# 2D densities from xy\n\nThis example demonstrates how to plot unordered xy data - in this case, particle positions (xy) - as contour of their\ndensity in both linear and log scale. See :meth:`deeptime.plots.plot_density`.\n"
      ]
    },
    {
      "cell_type": "code",
      "execution_count": null,
      "metadata": {
        "collapsed": false
      },
      "outputs": [],
      "source": [
        "import numpy as np\n\nimport matplotlib.pyplot as plt\nfrom matplotlib import ticker\n\nfrom deeptime.data import quadruple_well\nfrom deeptime.plots import plot_density\n\nsystem = quadruple_well(h=1e-3, n_steps=100)\ntrajs = system.trajectory(x0=[[-1, 0], [1, 0], [0, 0]], length=5000)\ntraj_concat = np.concatenate(trajs, axis=0)\n\nf, (ax1, ax2) = plt.subplots(1, 2, figsize=(16, 10))\n\nax1.set_title('Density')\nax1, mappable1 = plot_density(*traj_concat.T, n_bins=20, contourf_kws=dict(), ax=ax1)\nf.colorbar(mappable1, ax=ax1, format=ticker.FuncFormatter(lambda x, pos: f\"{x:.3f}\"))\n\nax2.set_title('Log Density')\ncontourf_kws = dict(locator=ticker.LogLocator(base=10, subs=range(1, 10)))\nax2, mappable2 = plot_density(*traj_concat.T, n_bins=20, avoid_zero_counts=True, contourf_kws=contourf_kws, ax=ax2)\nf.colorbar(mappable2, ax=ax2, format=ticker.FuncFormatter(lambda x, pos: f\"{x:.0e}\"))"
      ]
    }
  ],
  "metadata": {
    "kernelspec": {
      "display_name": "Python 3",
      "language": "python",
      "name": "python3"
    },
    "language_info": {
      "codemirror_mode": {
        "name": "ipython",
        "version": 3
      },
      "file_extension": ".py",
      "mimetype": "text/x-python",
      "name": "python",
      "nbconvert_exporter": "python",
      "pygments_lexer": "ipython3",
      "version": "3.10.6"
    }
  },
  "nbformat": 4,
  "nbformat_minor": 0
}