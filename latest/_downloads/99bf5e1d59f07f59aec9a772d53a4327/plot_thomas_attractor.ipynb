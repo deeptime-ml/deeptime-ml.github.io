{
  "cells": [
    {
      "cell_type": "code",
      "execution_count": null,
      "metadata": {
        "collapsed": false
      },
      "outputs": [],
      "source": [
        "%matplotlib inline"
      ]
    },
    {
      "cell_type": "markdown",
      "metadata": {},
      "source": [
        "\n# Thomas attractor\n\nThe Thomas attractor. See :meth:`deeptime.data.thomas_attractor`.\n"
      ]
    },
    {
      "cell_type": "code",
      "execution_count": null,
      "metadata": {
        "collapsed": false
      },
      "outputs": [],
      "source": [
        "import deeptime\nimport numpy as np\nimport matplotlib.pyplot as plt\nfrom mpl_toolkits.mplot3d.art3d import Line3DCollection\n\nsystem = deeptime.data.thomas_attractor(.1)\n\nx0 = np.random.uniform(-3, 3, size=(50, 3))\ntraj = system.trajectory(x0, 500)\ntstart = 0\ntfinish = system.h * system.n_steps * len(traj)\n\nax = plt.figure().add_subplot(projection='3d')\n\nfor t in traj:\n    points = t.reshape((-1, 1, 3))\n    segments = np.concatenate([points[:-1], points[1:]], axis=1)\n    coll = Line3DCollection(segments, cmap='twilight', alpha=.3)\n    coll.set_array(t[:, -1])\n    coll.set_linewidth(1)\n    ax.add_collection(coll)\n\nax.plot(*traj[0].T, alpha=0)\nax.set_box_aspect(np.ptp(traj[0], axis=0))"
      ]
    }
  ],
  "metadata": {
    "kernelspec": {
      "display_name": "Python 3",
      "language": "python",
      "name": "python3"
    },
    "language_info": {
      "codemirror_mode": {
        "name": "ipython",
        "version": 3
      },
      "file_extension": ".py",
      "mimetype": "text/x-python",
      "name": "python",
      "nbconvert_exporter": "python",
      "pygments_lexer": "ipython3",
      "version": "3.10.6"
    }
  },
  "nbformat": 4,
  "nbformat_minor": 0
}