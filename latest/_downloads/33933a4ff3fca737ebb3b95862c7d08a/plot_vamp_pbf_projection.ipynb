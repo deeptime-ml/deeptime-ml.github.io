{
  "cells": [
    {
      "cell_type": "code",
      "execution_count": null,
      "metadata": {
        "collapsed": false
      },
      "outputs": [],
      "source": [
        "%matplotlib inline"
      ]
    },
    {
      "cell_type": "markdown",
      "metadata": {},
      "source": [
        "\n# VAMP on Position Based Fluids\n\nProjection of position based fluids simulation timeseries on dominant component. For more details,\nsee the `VAMP tutorial <../notebooks/vamp.ipynb#Example-with-position-based-fluids>`__.\n"
      ]
    },
    {
      "cell_type": "code",
      "execution_count": null,
      "metadata": {
        "collapsed": false
      },
      "outputs": [],
      "source": [
        "import matplotlib.pyplot as plt\nimport numpy as np\n\nfrom deeptime.data import position_based_fluids\nfrom deeptime.decomposition import VAMP\n\npbf_simulator = position_based_fluids(n_burn_in=500, n_jobs=8)\ntrajectory = pbf_simulator.simulate_oscillatory_force(n_oscillations=3, n_steps=400)\nn_grid_x = 20\nn_grid_y = 10\nkde_trajectory = pbf_simulator.transform_to_density(\n    trajectory, n_grid_x=n_grid_x, n_grid_y=n_grid_y, n_jobs=8\n)\ntau = 100\nmodel = VAMP(lagtime=100).fit(kde_trajectory).fetch_model()\nprojection_left = model.forward(kde_trajectory, propagate=False)\nprojection_right = model.backward(kde_trajectory, propagate=False)\n\nf, ax = plt.subplots(1, 1, figsize=(5, 5))\nstart = 400\nstop = len(kde_trajectory) - tau  # 5000\nleft = projection_left[:-tau][start:stop, 0]\nright = projection_right[tau:][start:stop, 0]\nlw = 4\nax.plot(np.arange(start, stop), left, label=\"left\", linewidth=lw)\nax.plot(np.arange(start, stop)[::50], right[::50], '--', label=\"right\", linewidth=3, markersize=12)\nax.vlines([start + i * 400 for i in range(1, (stop - start) // 400)], np.min(left), np.max(left),\n          linestyles='dotted')\nax.legend()"
      ]
    }
  ],
  "metadata": {
    "kernelspec": {
      "display_name": "Python 3",
      "language": "python",
      "name": "python3"
    },
    "language_info": {
      "codemirror_mode": {
        "name": "ipython",
        "version": 3
      },
      "file_extension": ".py",
      "mimetype": "text/x-python",
      "name": "python",
      "nbconvert_exporter": "python",
      "pygments_lexer": "ipython3",
      "version": "3.10.4"
    }
  },
  "nbformat": 4,
  "nbformat_minor": 0
}