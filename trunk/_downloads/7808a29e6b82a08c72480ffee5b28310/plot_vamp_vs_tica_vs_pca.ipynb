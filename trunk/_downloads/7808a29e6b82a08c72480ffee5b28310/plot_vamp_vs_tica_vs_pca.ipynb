{
  "cells": [
    {
      "cell_type": "code",
      "execution_count": null,
      "metadata": {
        "collapsed": false
      },
      "outputs": [],
      "source": [
        "%matplotlib inline"
      ]
    },
    {
      "cell_type": "markdown",
      "metadata": {},
      "source": [
        "\n# VAMP vs. TICA vs. PCA\n\nThis example directly reflects the example used in the\n`TICA documentation <../notebooks/tica.ipynb>`__ plus a VAMP projection.\nSince this data stems from an in-equilibrium distribution, TICA and VAMP should not show qualitative differences.\n"
      ]
    },
    {
      "cell_type": "code",
      "execution_count": null,
      "metadata": {
        "collapsed": false
      },
      "outputs": [],
      "source": [
        "import matplotlib.pyplot as plt\nimport numpy as np\nfrom sklearn.decomposition import PCA\n\nfrom deeptime.data import ellipsoids\nfrom deeptime.decomposition import VAMP, TICA\n\n\ndef plot_dominant_component(ax, dxy, title):\n    x, y = np.meshgrid(\n        np.linspace(np.min(feature_trajectory[:, 0]), np.max(feature_trajectory[:, 0]), 4),\n        np.linspace(np.min(feature_trajectory[:, 1]), np.max(feature_trajectory[:, 1]), 4)\n    )\n    ax.scatter(*feature_trajectory.T, marker='.')\n    ax.quiver(x, y, dxy[0], dxy[1])\n    ax.set_title(title)\n    ax.set_aspect('equal')\n    ax.set_xlabel('x')\n    ax.set_ylabel('y')\n\n\ndata = ellipsoids(seed=17)\ndiscrete_trajectory = data.discrete_trajectory(n_steps=1000)\nfeature_trajectory = data.map_discrete_to_observations(discrete_trajectory)\n\nvamp = VAMP(dim=1, lagtime=1)\nvamp = vamp.fit(feature_trajectory).fetch_model()\nvamp_projection = vamp.transform(feature_trajectory)\ndxy_vamp = vamp.singular_vectors_left[:, 0]  # dominant vamp component\n\ntica = TICA(dim=1, lagtime=1)\ntica = tica.fit(feature_trajectory).fetch_model()\ntica_projection = tica.transform(feature_trajectory)\ndxy_tica = tica.singular_vectors_left[:, 0]  # dominant tica component\n\npca = PCA(n_components=1)\npca.fit(feature_trajectory)\npca_projection = pca.transform(feature_trajectory)\ndxy_pca = pca.components_[0]  # dominant pca component\n\nf = plt.figure(constrained_layout=False, figsize=(14, 14))\ngs = f.add_gridspec(nrows=2, ncols=3)\nax_projections = f.add_subplot(gs[0, :])\nax_tica = f.add_subplot(gs[1, 0])\nax_vamp = f.add_subplot(gs[1, 1])\nax_pca = f.add_subplot(gs[1, 2])\n\nax_projections.set_title(\"Projections of two-dimensional trajectory\")\nax_projections.set_xlabel('x')\nax_projections.set_ylabel('t')\n\nax_projections.plot(pca_projection, label='PCA', alpha=.5)\nax_projections.plot(tica_projection, label='TICA')\nax_projections.plot(vamp_projection, label='VAMP', linestyle='dashed')\nax_projections.legend()\n\nplot_dominant_component(ax_pca, dxy_pca, 'Samples with dominant PCA component')\nplot_dominant_component(ax_tica, dxy_tica, 'Samples with dominant TICA component')\nplot_dominant_component(ax_vamp, dxy_vamp, 'Samples with dominant VAMP component')"
      ]
    }
  ],
  "metadata": {
    "kernelspec": {
      "display_name": "Python 3",
      "language": "python",
      "name": "python3"
    },
    "language_info": {
      "codemirror_mode": {
        "name": "ipython",
        "version": 3
      },
      "file_extension": ".py",
      "mimetype": "text/x-python",
      "name": "python",
      "nbconvert_exporter": "python",
      "pygments_lexer": "ipython3",
      "version": "3.8.8"
    }
  },
  "nbformat": 4,
  "nbformat_minor": 0
}