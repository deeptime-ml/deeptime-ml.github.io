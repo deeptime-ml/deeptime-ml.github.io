{
  "cells": [
    {
      "cell_type": "code",
      "execution_count": null,
      "metadata": {
        "collapsed": false
      },
      "outputs": [],
      "source": [
        "%matplotlib inline"
      ]
    },
    {
      "cell_type": "markdown",
      "metadata": {},
      "source": [
        "\n# Custom ODEs\n\nDemonstrating usage of :meth:`deeptime.data.custom_ode`.\n\nOne is able to define ODEs of the form\n\n\\begin{align}\\mathrm{d}X_t = F(X_t)\\end{align}\n\nfor $X_t\\in\\mathbb{R}^d$, $d\\in\\{1,2,3,4,5\\}$.\n"
      ]
    },
    {
      "cell_type": "code",
      "execution_count": null,
      "metadata": {
        "collapsed": false
      },
      "outputs": [],
      "source": [
        "import matplotlib.pyplot as plt\nimport numpy as np\n\nfrom deeptime.data import custom_ode\n\nh = 1e-1\nn_steps = 2\nn_evals = 50\n\nfinal_time = h * n_steps * (n_evals-1)\n\node = custom_ode(dim=1, rhs=lambda x: [-.5 * x[0]], h=h, n_steps=n_steps)\ntraj = ode.trajectory(x0=1., length=n_evals)\n\nxs = np.linspace(0, final_time, num=n_evals)\nplt.plot(xs, traj, 'x')\n\nplt.plot(xs, np.exp(-.5 * xs))"
      ]
    }
  ],
  "metadata": {
    "kernelspec": {
      "display_name": "Python 3",
      "language": "python",
      "name": "python3"
    },
    "language_info": {
      "codemirror_mode": {
        "name": "ipython",
        "version": 3
      },
      "file_extension": ".py",
      "mimetype": "text/x-python",
      "name": "python",
      "nbconvert_exporter": "python",
      "pygments_lexer": "ipython3",
      "version": "3.9.9"
    }
  },
  "nbformat": 4,
  "nbformat_minor": 0
}