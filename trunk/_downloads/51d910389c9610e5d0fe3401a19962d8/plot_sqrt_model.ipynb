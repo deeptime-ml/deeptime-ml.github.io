{
  "cells": [
    {
      "cell_type": "code",
      "execution_count": null,
      "metadata": {
        "collapsed": false
      },
      "outputs": [],
      "source": [
        "%matplotlib inline"
      ]
    },
    {
      "cell_type": "markdown",
      "metadata": {},
      "source": [
        "\n# Sqrt model\n\nSample a hidden state and an sqrt-transformed emission trajectory. Demonstrates :meth:`deeptime.data.sqrt_model`.\n"
      ]
    },
    {
      "cell_type": "code",
      "execution_count": null,
      "metadata": {
        "collapsed": false
      },
      "outputs": [],
      "source": [
        "import numpy as np\nimport matplotlib.pyplot as plt\nimport scipy.stats as stats\n\nfrom deeptime.data import sqrt_model\n\nn_samples = 10000\ndtraj, traj = sqrt_model(n_samples)\n\nX, Y = np.meshgrid(\n    np.linspace(np.min(traj[:, 0]), np.max(traj[:, 0]), 100),\n    np.linspace(np.min(traj[:, 1]), np.max(traj[:, 1]), 100),\n)\nkde_input = np.dstack((X, Y)).reshape(-1, 2)\n\nkernel = stats.gaussian_kde(traj.T, bw_method=.1)\nZ = kernel(kde_input.T).reshape(X.shape)\n\nf, (ax1, ax2) = plt.subplots(1, 2, figsize=(16, 6))\nax1.plot(dtraj[:500])\nax1.set_title('Discrete trajectory')\nax1.set_xlabel('time (a.u.)')\nax1.set_ylabel('state')\n\ncm = ax2.contourf(X, Y, Z)\nplt.colorbar(cm, ax=ax2)\nax2.set_title('Heatmap of observations')"
      ]
    }
  ],
  "metadata": {
    "kernelspec": {
      "display_name": "Python 3",
      "language": "python",
      "name": "python3"
    },
    "language_info": {
      "codemirror_mode": {
        "name": "ipython",
        "version": 3
      },
      "file_extension": ".py",
      "mimetype": "text/x-python",
      "name": "python",
      "nbconvert_exporter": "python",
      "pygments_lexer": "ipython3",
      "version": "3.8.10"
    }
  },
  "nbformat": 4,
  "nbformat_minor": 0
}