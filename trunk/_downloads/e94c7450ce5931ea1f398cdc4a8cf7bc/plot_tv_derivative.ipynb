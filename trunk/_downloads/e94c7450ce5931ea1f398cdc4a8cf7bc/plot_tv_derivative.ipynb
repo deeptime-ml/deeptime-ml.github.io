{
  "cells": [
    {
      "cell_type": "code",
      "execution_count": null,
      "metadata": {
        "collapsed": false
      },
      "outputs": [],
      "source": [
        "%matplotlib inline"
      ]
    },
    {
      "cell_type": "markdown",
      "metadata": {},
      "source": [
        "\n# TV Derivative\n\nTotal-variation regularized derivative on a noisy function.\n"
      ]
    },
    {
      "cell_type": "code",
      "execution_count": null,
      "metadata": {
        "collapsed": false
      },
      "outputs": [],
      "source": [
        "import numpy as np\nimport deeptime.util.diff as diff\nimport matplotlib.pyplot as plt\n\nnoise_variance = .08 * .08\nx0 = np.linspace(0, 2.0 * np.pi, 200)\ntestf = np.sin(x0) + np.random.normal(0.0, np.sqrt(noise_variance), x0.shape)\ntrue_deriv = np.cos(x0)\ndf_tv = diff.tv_derivative(x0, testf, alpha=0.01, tol=1e-5, verbose=True, fd_window_radius=5)\n\nplt.figure()\nplt.plot(x0, np.sin(x0), label=r'$f(x) = \\sin(x)$')\nplt.plot(x0, testf, label=r'$f(x) + \\mathcal{N}(0, \\sigma)$', color='C0', alpha=.5)\nplt.plot(x0, true_deriv, label=r'$\\frac{df}{dx}(x) = \\cos(x)$')\nplt.plot(x0, np.gradient(testf, x0), label='finite differences', alpha=.5)\nplt.plot(x0, df_tv, label=r'$\\mathrm{TV}(f(x) + \\mathcal{N}(0, \\sigma))$, $\\alpha = 0.01$')\nplt.legend()"
      ]
    }
  ],
  "metadata": {
    "kernelspec": {
      "display_name": "Python 3",
      "language": "python",
      "name": "python3"
    },
    "language_info": {
      "codemirror_mode": {
        "name": "ipython",
        "version": 3
      },
      "file_extension": ".py",
      "mimetype": "text/x-python",
      "name": "python",
      "nbconvert_exporter": "python",
      "pygments_lexer": "ipython3",
      "version": "3.10.6"
    }
  },
  "nbformat": 4,
  "nbformat_minor": 0
}