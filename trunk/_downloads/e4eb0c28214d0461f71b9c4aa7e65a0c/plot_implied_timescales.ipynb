{
  "cells": [
    {
      "cell_type": "code",
      "execution_count": null,
      "metadata": {
        "collapsed": false
      },
      "outputs": [],
      "source": [
        "%matplotlib inline"
      ]
    },
    {
      "cell_type": "markdown",
      "metadata": {},
      "source": [
        "\n# Implied timescales\n\nThis example demonstrates how to obtain an implied timescales (ITS) plot for a Bayesian Markov state model.\n"
      ]
    },
    {
      "cell_type": "code",
      "execution_count": null,
      "metadata": {
        "collapsed": false
      },
      "outputs": [],
      "source": [
        "import matplotlib.pyplot as plt\nimport numpy as np\n\nfrom deeptime.clustering import KMeans\nfrom deeptime.data import double_well_2d\nfrom deeptime.markov import TransitionCountEstimator\nfrom deeptime.markov.msm import BayesianMSM\nfrom deeptime.plots import plot_implied_timescales\nfrom deeptime.util.validation import implied_timescales\n\nsystem = double_well_2d()\ndata = system.trajectory(x0=np.random.normal(scale=.2, size=(10, 2)), length=1000)\nclustering = KMeans(n_clusters=50).fit_fetch(np.concatenate(data))\ndtrajs = [clustering.transform(traj) for traj in data]\n\nmodels = []\nlagtimes = np.arange(1, 10)\nfor lagtime in lagtimes:\n    counts = TransitionCountEstimator(lagtime=lagtime, count_mode='effective').fit_fetch(dtrajs)\n    models.append(BayesianMSM(n_samples=50).fit_fetch(counts))\n\nits_data = implied_timescales(models)\n\nfig, ax = plt.subplots(1, 1)\nplot_implied_timescales(its_data, n_its=2, ax=ax)\nax.set_yscale('log')\nax.set_title('Implied timescales')\nax.set_xlabel('lag time (steps)')\nax.set_ylabel('timescale (steps)')"
      ]
    }
  ],
  "metadata": {
    "kernelspec": {
      "display_name": "Python 3",
      "language": "python",
      "name": "python3"
    },
    "language_info": {
      "codemirror_mode": {
        "name": "ipython",
        "version": 3
      },
      "file_extension": ".py",
      "mimetype": "text/x-python",
      "name": "python",
      "nbconvert_exporter": "python",
      "pygments_lexer": "ipython3",
      "version": "3.9.10"
    }
  },
  "nbformat": 4,
  "nbformat_minor": 0
}