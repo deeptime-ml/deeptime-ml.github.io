{
  "cells": [
    {
      "cell_type": "code",
      "execution_count": null,
      "metadata": {
        "collapsed": false
      },
      "outputs": [],
      "source": [
        "%matplotlib inline"
      ]
    },
    {
      "cell_type": "markdown",
      "metadata": {},
      "source": [
        "\n# Gross and net flux on the Drunkard's walk example\n\nThis example shows how to compute and visualize gross and net reactive flux (see :class:`deeptime.markov.ReactiveFlux`)\nusing the :meth:`deeptime.data.drunkards_walk`.\n"
      ]
    },
    {
      "cell_type": "code",
      "execution_count": null,
      "metadata": {
        "collapsed": false
      },
      "outputs": [],
      "source": [
        "import matplotlib as mpl\nimport matplotlib.pyplot as plt\nfrom mpl_toolkits.axes_grid1 import make_axes_locatable\n\nimport numpy as np\n\nfrom deeptime.data import drunkards_walk\n\nsim = drunkards_walk(grid_size=(10, 10),\n                     bar_location=[(0, 0), (0, 1), (1, 0), (1, 1)],\n                     home_location=[(8, 8), (8, 9), (9, 8), (9, 9)])\nsim.add_barrier((5, 1), (5, 5))\nsim.add_barrier((0, 9), (5, 8))\nsim.add_barrier((9, 2), (7, 6))\nsim.add_barrier((2, 6), (5, 6))\n\nsim.add_barrier((7, 9), (7, 7), weight=5.)\nsim.add_barrier((8, 7), (9, 7), weight=5.)\n\nsim.add_barrier((0, 2), (2, 2), weight=5.)\nsim.add_barrier((2, 0), (2, 1), weight=5.)\n\nflux = sim.msm.reactive_flux(sim.home_state, sim.bar_state)\n\nfig, axes = plt.subplots(1, 2, figsize=(18, 10))\ndividers = [make_axes_locatable(axes[i]) for i in range(len(axes))]\ncaxes = [divider.append_axes(\"right\", size=\"5%\", pad=0.05) for divider in dividers]\n\ntitles = [\"Gross flux\", \"Net flux\"]\nfluxes = [flux.gross_flux, flux.net_flux]\n\ncmap = plt.cm.copper_r\nthresh = [0, 1e-12]\n\nfor i in range(len(axes)):\n    ax = axes[i]\n    F = fluxes[i]\n    ax.set_title(titles[i])\n\n    vmin = np.min(F[np.nonzero(F)])\n    vmax = np.max(F)\n\n    sim.plot_2d_map(ax)\n    sim.plot_network(ax, F, cmap=cmap, connection_threshold=thresh[i])\n    norm = mpl.colors.LogNorm(vmin=vmin, vmax=vmax)\n    fig.colorbar(plt.cm.ScalarMappable(norm=norm, cmap=cmap), cax=caxes[i])"
      ]
    }
  ],
  "metadata": {
    "kernelspec": {
      "display_name": "Python 3",
      "language": "python",
      "name": "python3"
    },
    "language_info": {
      "codemirror_mode": {
        "name": "ipython",
        "version": 3
      },
      "file_extension": ".py",
      "mimetype": "text/x-python",
      "name": "python",
      "nbconvert_exporter": "python",
      "pygments_lexer": "ipython3",
      "version": "3.9.9"
    }
  },
  "nbformat": 4,
  "nbformat_minor": 0
}