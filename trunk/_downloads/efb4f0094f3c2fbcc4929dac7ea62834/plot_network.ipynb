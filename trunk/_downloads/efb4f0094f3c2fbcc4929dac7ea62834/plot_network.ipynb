{
  "cells": [
    {
      "cell_type": "code",
      "execution_count": null,
      "metadata": {
        "collapsed": false
      },
      "outputs": [],
      "source": [
        "%matplotlib inline"
      ]
    },
    {
      "cell_type": "markdown",
      "metadata": {},
      "source": [
        "\n# Network plots\n\nWe demonstrate different kinds of network plots based on :meth:`plots.Network <deeptime.plots.Network>`.\nIn particular:\n\n    * plotting a Markov state model where the state sizes depend on the stationary distribution and edges are scaled\n      according to jump probabilities (:meth:`deeptime.plots.plot_markov_model`)\n    * plotting the gross flux, in accordance to edge widths and colored according to the forward committor\n      (:meth:`deeptime.plots.Network`).\n"
      ]
    },
    {
      "cell_type": "code",
      "execution_count": null,
      "metadata": {
        "collapsed": false
      },
      "outputs": [],
      "source": [
        "import numpy as np\nimport matplotlib as mpl\nimport matplotlib.pyplot as plt\nimport networkx as nx\n\nfrom mpl_toolkits.axes_grid1 import make_axes_locatable\n\nfrom deeptime.markov.msm import MarkovStateModel\nfrom deeptime.plots import plot_markov_model, Network, plot_flux\n\nP = np.array([[0.8, 0.15, 0.05, 0.0, 0.0],\n              [0.1, 0.75, 0.05, 0.05, 0.05],\n              [0.05, 0.1, 0.8, 0.0, 0.05],\n              [0.0, 0.2, 0.0, 0.8, 0.0],\n              [1e-7, 0.02 - 1e-7, 0.02, 0.0, 0.96]])\n\nf, axes = plt.subplots(2, 2, figsize=(16, 12))\nfor ax in axes.flatten():\n    ax.set_aspect('equal')\n\nax = axes[0][0]\nax.set_title('Plotting the Markov model')\nplot_markov_model(P, ax=ax)\n\nax = axes[0][1]\nax.set_title('Plotting the gross flux')\nflux = MarkovStateModel(P).reactive_flux(source_states=[2], target_states=[3])\npositions = nx.planar_layout(nx.from_numpy_array(flux.gross_flux))\ncmap = mpl.cm.get_cmap('coolwarm')\nnetwork = Network(flux.gross_flux, positions, edge_curvature=2.,\n                  state_colors=flux.forward_committor, cmap=cmap)\nnetwork.plot(ax=ax)\nnorm = mpl.colors.Normalize(vmin=np.min(flux.forward_committor), vmax=np.max(flux.forward_committor))\ndivider = make_axes_locatable(ax)\ncax = divider.append_axes(\"right\", size=\"5%\", pad=0.05)\nf.colorbar(mpl.cm.ScalarMappable(norm, cmap), cax=cax)\n\nax = axes[1][0]\nax.set_title('Plotting the net flux')\nax.get_yaxis().set_visible(False)\nplot_flux(flux, attribute_to_plot='net_flux', ax=ax)\n\nf.delaxes(axes[1][1])"
      ]
    }
  ],
  "metadata": {
    "kernelspec": {
      "display_name": "Python 3",
      "language": "python",
      "name": "python3"
    },
    "language_info": {
      "codemirror_mode": {
        "name": "ipython",
        "version": 3
      },
      "file_extension": ".py",
      "mimetype": "text/x-python",
      "name": "python",
      "nbconvert_exporter": "python",
      "pygments_lexer": "ipython3",
      "version": "3.10.4"
    }
  },
  "nbformat": 4,
  "nbformat_minor": 0
}