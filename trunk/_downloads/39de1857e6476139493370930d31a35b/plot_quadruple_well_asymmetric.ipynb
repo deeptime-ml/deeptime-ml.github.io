{
  "cells": [
    {
      "cell_type": "code",
      "execution_count": null,
      "metadata": {
        "collapsed": false
      },
      "outputs": [],
      "source": [
        "%matplotlib inline"
      ]
    },
    {
      "cell_type": "markdown",
      "metadata": {},
      "source": [
        "\n# Asymmetric Quadruple-well\n\nExample for the :meth:`deeptime.data.quadruple_well_asymmetric` dataset.\n"
      ]
    },
    {
      "cell_type": "code",
      "execution_count": null,
      "metadata": {
        "collapsed": false
      },
      "outputs": [],
      "source": [
        "import numpy as np\nimport scipy\nimport matplotlib.pyplot as plt\nfrom matplotlib.collections import LineCollection\n\nfrom deeptime.data import quadruple_well_asymmetric\n\nsystem = quadruple_well_asymmetric(n_steps=10000)\ntraj = system.trajectory(np.array([[-1, 1]]), 70, seed=36)\n\nxy = np.arange(-1.8, 1.8, 0.1)\ncoords = np.dstack(np.meshgrid(xy, xy)).reshape(-1, 2)\nV = system.potential(coords).reshape((xy.shape[0], xy.shape[0]))\n\nfig, ax = plt.subplots(1, 1)\nax.set_aspect('equal')\nax.set_title(\"Example of a trajectory\")\n\ncb = ax.contourf(xy, xy, V, levels=50, cmap='coolwarm')\n\nax.annotate(f'V(x) = {system.potential([[1., 1.]]).squeeze():.2f}', xy=(1., 1.), xycoords='data',\n            xytext=(-30, 40), textcoords='offset points',\n            bbox=dict(boxstyle=\"round\"), arrowprops=dict(arrowstyle='simple'))\nax.annotate(f'V(x) = {system.potential([[-1., -1.]]).squeeze():.2f}', xy=(-1., -1.), xycoords='data',\n            xytext=(-30, -40), textcoords='offset points',\n            bbox=dict(boxstyle=\"round\"), arrowprops=dict(arrowstyle='simple'))\nax.annotate(f'V(x) = {system.potential([[-1., 1.]]).squeeze():.2f}', xy=(-1., 1.), xycoords='data',\n            xytext=(-30, 40), textcoords='offset points',\n            bbox=dict(boxstyle=\"round\"), arrowprops=dict(arrowstyle='simple'))\nax.annotate(f'V(x) = {system.potential([[1., -1.]]).squeeze():.2f}', xy=(1., -1.), xycoords='data',\n            xytext=(-30, -40), textcoords='offset points',\n            bbox=dict(boxstyle=\"round\"), arrowprops=dict(arrowstyle='simple'))\n\nx = np.r_[traj[:, 0]]\ny = np.r_[traj[:, 1]]\nf, u = scipy.interpolate.splprep([x, y], s=0, per=False)\nxint, yint = scipy.interpolate.splev(np.linspace(0, 1, 50000), f)\n\npoints = np.stack([xint, yint]).T.reshape(-1, 1, 2)\nsegments = np.concatenate([points[:-1], points[1:]], axis=1)\ncoll = LineCollection(segments, cmap='jet')\ncoll.set_array(np.linspace(0, 1, num=len(points), endpoint=True))\ncoll.set_linewidth(1)\nax.add_collection(coll)\n\nfig.colorbar(cb)"
      ]
    }
  ],
  "metadata": {
    "kernelspec": {
      "display_name": "Python 3",
      "language": "python",
      "name": "python3"
    },
    "language_info": {
      "codemirror_mode": {
        "name": "ipython",
        "version": 3
      },
      "file_extension": ".py",
      "mimetype": "text/x-python",
      "name": "python",
      "nbconvert_exporter": "python",
      "pygments_lexer": "ipython3",
      "version": "3.9.10"
    }
  },
  "nbformat": 4,
  "nbformat_minor": 0
}