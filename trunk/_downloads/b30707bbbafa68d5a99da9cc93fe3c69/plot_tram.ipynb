{
  "cells": [
    {
      "cell_type": "code",
      "execution_count": null,
      "metadata": {
        "collapsed": false
      },
      "outputs": [],
      "source": [
        "%matplotlib inline"
      ]
    },
    {
      "cell_type": "markdown",
      "metadata": {},
      "source": [
        "\n# TRAM on a 1D double well\n\nThis example shows how to use the transition-based reweighting analysis method (TRAM) to estimate the free energies\nand Markov model of a simple double-well potential, sampled using umbrella sampling.\n\nFor more information see the :class:`TRAM <deeptime.markov.msm.tram.TRAM>` estimator and\nits respective `TRAM tutorial <../notebooks/tram.ipynb>`__.\n"
      ]
    },
    {
      "cell_type": "code",
      "execution_count": null,
      "metadata": {
        "collapsed": false
      },
      "outputs": [],
      "source": [
        "import numpy as np\nimport matplotlib.pyplot as plt\n\nfrom deeptime.data import tmatrix_metropolis1d\nfrom deeptime.markov.msm import MarkovStateModel, TRAM\nfrom deeptime.clustering import ClusterModel\n\nxs = np.linspace(-1.5, 1.5, num=100)\nn_samples = 10000\nbias_centers = [-1, -0.5, 0.0, 0.5, 1]\n\n\ndef harmonic(x0, x):\n    return 2 * (x - x0) ** 4\n\n\ndef plot_contour_with_colourbar(data, vmin=None, vmax=None):\n    if vmin is None:\n        vmin = np.min(data)\n    if vmax is None:\n        vmax = np.max(data)\n    fig, (ax1) = plt.subplots(1, figsize=(3.5, 3))\n    im = ax1.contourf(data, vmin=vmin, vmax=vmax, levels=50, cmap='jet')\n    plt.colorbar(im)\n    plt.show()\n\n\ndef get_bias_functions():\n    bias_functions = []\n    for i, bias_center in enumerate(bias_centers):\n        bias = lambda x, x0=bias_center: harmonic(x0, x)\n        bias_functions.append(bias)\n    return bias_functions\n\n\ndef sample_trajectories(bias_functions):\n    trajs = np.zeros((len(bias_centers), n_samples), dtype=np.int32)\n\n    for i, bias in enumerate(bias_functions):\n        biased_energies = (xs - 1) ** 4 * (xs + 1) ** 4 - 0.1 * xs + bias(xs)\n\n        biased_energies /= np.max(biased_energies)\n        transition_matrix = tmatrix_metropolis1d(biased_energies)\n\n        msm = MarkovStateModel(transition_matrix)\n        trajs[i] = msm.simulate(n_steps=n_samples)\n    return trajs\n\n\nif __name__ == \"__main__\":\n    bias_functions = get_bias_functions()\n    trajectories = sample_trajectories(bias_functions)\n\n    # move from trajectory over 100 bins back to the space of the xs: (-1.5, 1.5)\n    trajectories = trajectories / 100 * 3 - 1.5\n\n    bias_matrices = np.zeros((len(bias_centers), n_samples, len(bias_centers)))\n    for i, traj in enumerate(trajectories):\n        for j, bias_function in enumerate(bias_functions):\n            bias_matrices[i, :, j] = bias_function(traj)\n\n    # discretize the trajectories into two Markov states (centered around the two wells)\n    clustering = ClusterModel(cluster_centers=np.asarray([-0.75, 0.75]), metric='euclidean')\n\n    dtrajs = clustering.transform(trajectories.flatten()).reshape((len(bias_matrices), n_samples))\n\n    from tqdm import tqdm\n    tram = TRAM(lagtime=1, maxiter=1000, maxerr=1e-3, progress=tqdm, init_strategy=\"MBAR\")\n\n    # For every simulation frame seen in trajectory i and time step t, btrajs[i][t,k] is the\n    # bias energy of that frame evaluated in the k'th thermodynamic state (i.e. at the k'th\n    # Umbrella/Hamiltonian/temperature).\n    model = tram.fit_fetch((dtrajs, bias_matrices))\n\n    plot_contour_with_colourbar(model.biased_conf_energies)"
      ]
    }
  ],
  "metadata": {
    "kernelspec": {
      "display_name": "Python 3",
      "language": "python",
      "name": "python3"
    },
    "language_info": {
      "codemirror_mode": {
        "name": "ipython",
        "version": 3
      },
      "file_extension": ".py",
      "mimetype": "text/x-python",
      "name": "python",
      "nbconvert_exporter": "python",
      "pygments_lexer": "ipython3",
      "version": "3.9.10"
    }
  },
  "nbformat": 4,
  "nbformat_minor": 0
}