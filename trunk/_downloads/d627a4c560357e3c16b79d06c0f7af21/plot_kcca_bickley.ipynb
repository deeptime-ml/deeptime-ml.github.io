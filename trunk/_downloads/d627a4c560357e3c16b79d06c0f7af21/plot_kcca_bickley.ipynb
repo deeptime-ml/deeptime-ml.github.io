{
  "cells": [
    {
      "cell_type": "code",
      "execution_count": null,
      "metadata": {
        "collapsed": false
      },
      "outputs": [],
      "source": [
        "%matplotlib inline"
      ]
    },
    {
      "cell_type": "markdown",
      "metadata": {},
      "source": [
        "\n# Kernel CCA on the Bickley jet to find coherent sets\n\nThis example shows an application of :class:`KernelCCA <deeptime.decomposition.KernelCCA>` on the\n:meth:`bickley jet <deeptime.data.bickley_jet>` dataset. One can cluster in the singular function space\nto find coherent structures.\n"
      ]
    },
    {
      "cell_type": "code",
      "execution_count": null,
      "metadata": {
        "collapsed": false
      },
      "outputs": [],
      "source": [
        "import matplotlib.pyplot as plt\nimport numpy as np\n\nfrom deeptime.clustering import KMeans\nfrom deeptime.data import bickley_jet\nfrom deeptime.decomposition import KernelCCA\nfrom deeptime.kernels import GaussianKernel\n\ndataset = bickley_jet(n_particles=1000, n_jobs=8).endpoints_dataset()\nkernel = GaussianKernel(.7)\n\nestimator = KernelCCA(kernel, n_eigs=5, epsilon=1e-3)\nmodel = estimator.fit((dataset.data, dataset.data_lagged)).fetch_model()\n\nev_real = np.real(model.eigenvectors)\nkmeans = KMeans(n_clusters=7, n_jobs=8).fit(ev_real)\nkmeans = kmeans.fetch_model()\n\nfig = plt.figure()\ngs = fig.add_gridspec(ncols=2, nrows=3)\n\nax = fig.add_subplot(gs[0, 0])\nax.scatter(*dataset.data.T, c=ev_real[:, 0])\nax.set_title('1st Eigenfunction')\n\nax = fig.add_subplot(gs[0, 1])\nax.scatter(*dataset.data.T, c=ev_real[:, 1])\nax.set_title('2nd Eigenfunction')\n\nax = fig.add_subplot(gs[1, 0])\nax.scatter(*dataset.data.T, c=ev_real[:, 2])\nax.set_title('3rd Eigenfunction')\n\nax = fig.add_subplot(gs[1, 1])\nax.scatter(*dataset.data.T, c=ev_real[:, 3])\nax.set_title('4th Eigenfunction')\n\nax = fig.add_subplot(gs[2, 0])\nax.scatter(*dataset.data.T, c=ev_real[:, 4])\nax.set_title('5th Eigenfunction')\n\nax = fig.add_subplot(gs[2, 1])\nax.scatter(*dataset.data.T, c=kmeans.transform(ev_real))\nax.set_title('Clustering of the eigenfunctions')"
      ]
    }
  ],
  "metadata": {
    "kernelspec": {
      "display_name": "Python 3",
      "language": "python",
      "name": "python3"
    },
    "language_info": {
      "codemirror_mode": {
        "name": "ipython",
        "version": 3
      },
      "file_extension": ".py",
      "mimetype": "text/x-python",
      "name": "python",
      "nbconvert_exporter": "python",
      "pygments_lexer": "ipython3",
      "version": "3.8.10"
    }
  },
  "nbformat": 4,
  "nbformat_minor": 0
}