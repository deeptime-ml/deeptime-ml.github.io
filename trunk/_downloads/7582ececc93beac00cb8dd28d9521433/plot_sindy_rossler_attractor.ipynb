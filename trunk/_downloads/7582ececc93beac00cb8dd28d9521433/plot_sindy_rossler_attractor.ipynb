{
  "cells": [
    {
      "cell_type": "code",
      "execution_count": null,
      "metadata": {
        "collapsed": false
      },
      "outputs": [],
      "source": [
        "%matplotlib inline"
      ]
    },
    {
      "cell_type": "markdown",
      "metadata": {},
      "source": [
        "\n# Identification of the Rossler system with SINDy\n\nThis example shows how to use SINDy to discover the chaotic Rossler system from\nmeasurement data via the :class:`deeptime.sindy.SINDy` estimator and\n:class:`deeptime.sindy.SINDyModel` model. Once we've learned the system, we can\nalso simulate forward in time from novel initial conditions.\n\nNote that for this example we pass in the exact derivatives. In practice one can\nalso pass in a numerical approximation in their place.\n"
      ]
    },
    {
      "cell_type": "code",
      "execution_count": null,
      "metadata": {
        "collapsed": false
      },
      "outputs": [],
      "source": [
        "import matplotlib.pyplot as plt\nimport numpy as np\nfrom scipy.integrate import odeint\nfrom sklearn.preprocessing import PolynomialFeatures\n\nfrom deeptime.sindy import SINDy, STLSQ\n\n\n# Generate measurements of the Rossler system\na = 0.1\nb = 0.1\nc = 14\n\n\ndef rossler(z, t):\n    return [-z[1] - z[2], z[0] + a * z[1], b + z[2] * (z[0] - c)]\n\n\ndt = 0.01\nt_train = np.arange(0, 150, dt)\nx0_train = [-1, -1, 0]\nx_train = odeint(rossler, x0_train, t_train)\nx_dot_train = np.array([rossler(xi, 1) for xi in x_train])\n\n# Plot training data\nfig = plt.figure(figsize=(8, 6))\nax = fig.add_subplot(111, projection=\"3d\")\nax.plot(x_train[:, 0], x_train[:, 1], x_train[:, 2], color=\"firebrick\", alpha=0.7)\nax.set(xlabel=\"x\", ylabel=\"y\", zlabel=\"z\", title=\"Training data (Rossler system)\")\n\n# Instantiate and fit an estimator to the data\nestimator = SINDy(\n    library=PolynomialFeatures(degree=3),\n    optimizer=STLSQ(threshold=0.05),\n)\nestimator.fit(x_train, y=x_dot_train)\n\n# Get the underlying ODE model\nmodel = estimator.fetch_model()\nmodel.print(lhs=[\"x\", \"y\", \"z\"])\n\n# Simulate from novel initial conditions\nt_test = t_train\nx0_test = [2, 3, 0]\nx_test = odeint(rossler, x0_test, t_test)\n\n# Plot test data\nfig = plt.figure(figsize=(8, 6))\nax = fig.add_subplot(111, projection=\"3d\")\nax.plot(\n    x_test[:, 0],\n    x_test[:, 1],\n    x_test[:, 2],\n    label=\"True solution\",\n    color=\"firebrick\",\n    alpha=0.7,\n)\nax.set(xlabel=\"x\", ylabel=\"y\", zlabel=\"z\", title=\"Testing data (Rossler system)\")\n\n# Simulate data with SINDy model and plot\nx_sim = model.simulate(x0_test, t_test)\nax.plot(\n    x_sim[:, 0],\n    x_sim[:, 1],\n    x_sim[:, 2],\n    label=\"Model simulation\",\n    color=\"royalblue\",\n    linestyle=\"dashed\",\n)\nax.legend()"
      ]
    }
  ],
  "metadata": {
    "kernelspec": {
      "display_name": "Python 3",
      "language": "python",
      "name": "python3"
    },
    "language_info": {
      "codemirror_mode": {
        "name": "ipython",
        "version": 3
      },
      "file_extension": ".py",
      "mimetype": "text/x-python",
      "name": "python",
      "nbconvert_exporter": "python",
      "pygments_lexer": "ipython3",
      "version": "3.9.7"
    }
  },
  "nbformat": 4,
  "nbformat_minor": 0
}