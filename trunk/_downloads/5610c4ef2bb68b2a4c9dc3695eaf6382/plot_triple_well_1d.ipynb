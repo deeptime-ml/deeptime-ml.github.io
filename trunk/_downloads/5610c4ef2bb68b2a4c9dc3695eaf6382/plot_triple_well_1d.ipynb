{
  "cells": [
    {
      "cell_type": "code",
      "execution_count": null,
      "metadata": {
        "collapsed": false
      },
      "outputs": [],
      "source": [
        "%matplotlib inline"
      ]
    },
    {
      "cell_type": "markdown",
      "metadata": {},
      "source": [
        "\n# Triple-well 1D\n\nExample for the :meth:`deeptime.data.triple_well_1d` dataset.\n"
      ]
    },
    {
      "cell_type": "code",
      "execution_count": null,
      "metadata": {
        "collapsed": false
      },
      "outputs": [],
      "source": [
        "import matplotlib.pyplot as plt\nimport numpy as np\n\nfrom deeptime.data import triple_well_1d\n\nsystem = triple_well_1d(h=1e-3, n_steps=500)\nxs = np.linspace(0, 6., num=500)\nys = system.potential(xs.reshape(-1, 1))\n\ntrajectory = system.trajectory(x0=0.5, length=20000, seed=53)\n\nf, (ax1, ax2) = plt.subplots(nrows=1, ncols=2, figsize=(16, 8))\nax1.plot(xs, ys.reshape(-1))\nax1.set_xlabel('x')\nax1.set_ylabel('V(x)')\nax1.set_title('Potential landscape')\n\nax2.hist(trajectory.reshape(-1), bins=50, density=True)\nax2.set_title('Histogram of trajectory')\n\nplt.show()"
      ]
    }
  ],
  "metadata": {
    "kernelspec": {
      "display_name": "Python 3",
      "language": "python",
      "name": "python3"
    },
    "language_info": {
      "codemirror_mode": {
        "name": "ipython",
        "version": 3
      },
      "file_extension": ".py",
      "mimetype": "text/x-python",
      "name": "python",
      "nbconvert_exporter": "python",
      "pygments_lexer": "ipython3",
      "version": "3.9.6"
    }
  },
  "nbformat": 4,
  "nbformat_minor": 0
}