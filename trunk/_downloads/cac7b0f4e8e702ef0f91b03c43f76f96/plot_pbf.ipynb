{
  "cells": [
    {
      "cell_type": "code",
      "execution_count": null,
      "metadata": {
        "collapsed": false
      },
      "outputs": [],
      "source": [
        "%matplotlib inline"
      ]
    },
    {
      "cell_type": "markdown",
      "metadata": {},
      "source": [
        "\n# Position-based fluids\n\nExample of the :meth:`deeptime.data.position_based_fluids` simulation engine.\n"
      ]
    },
    {
      "cell_type": "code",
      "execution_count": null,
      "metadata": {
        "collapsed": false
      },
      "outputs": [],
      "source": [
        "import numpy as np\nimport matplotlib.pyplot as plt\n\nfrom deeptime.data import position_based_fluids\n\ninit_pos_x = np.arange(-12, 12, 1.4).astype(np.float32)\ninit_pos_y = np.arange(-12, 0, 1.4).astype(np.float32)\ninitial_positions = np.dstack(np.meshgrid(init_pos_x, init_pos_y)).reshape(-1, 2)\n\npbf = position_based_fluids(n_burn_in=0, n_jobs=8, initial_positions=initial_positions)\nftraj = pbf.simulate_oscillatory_force(2, n_steps=400)\nani = pbf.make_animation(ftraj, agg_backend=False, figsize=(6, 4), stride=5)\nplt.show()"
      ]
    }
  ],
  "metadata": {
    "kernelspec": {
      "display_name": "Python 3",
      "language": "python",
      "name": "python3"
    },
    "language_info": {
      "codemirror_mode": {
        "name": "ipython",
        "version": 3
      },
      "file_extension": ".py",
      "mimetype": "text/x-python",
      "name": "python",
      "nbconvert_exporter": "python",
      "pygments_lexer": "ipython3",
      "version": "3.10.6"
    }
  },
  "nbformat": 4,
  "nbformat_minor": 0
}