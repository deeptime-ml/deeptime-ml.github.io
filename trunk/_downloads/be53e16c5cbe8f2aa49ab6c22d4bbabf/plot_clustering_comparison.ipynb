{
  "cells": [
    {
      "cell_type": "code",
      "execution_count": null,
      "metadata": {
        "collapsed": false
      },
      "outputs": [],
      "source": [
        "%matplotlib inline"
      ]
    },
    {
      "cell_type": "markdown",
      "metadata": {},
      "source": [
        "\n# Clustering methods comparison\n\nThis example demonstrates the implemented clustering methods on one example dataset for a direct comparison.\n"
      ]
    },
    {
      "cell_type": "code",
      "execution_count": null,
      "metadata": {
        "collapsed": false
      },
      "outputs": [],
      "source": [
        "import matplotlib.pyplot as plt  # matplotlib for plotting\nimport numpy as np\n\nfrom sklearn.mixture import GaussianMixture  # for example data generation\n\nfrom deeptime.clustering import KMeans, RegularSpace\n\nrnd = np.random.RandomState(seed=17)  # create a random state with fixed seed for reproducibility\n\nn_components = 5\ngmm = GaussianMixture(n_components=n_components, random_state=rnd, covariance_type='diag')  # create a GMM object\n\ngmm.weights_ = np.array([10., 100., 10000., 10., 10.])\ngmm.weights_ /= gmm.weights_.sum()  # weights need to form a probability distribution\ngmm.means_ = rnd.uniform(low=-20., high=20., size=(n_components, 2))  # centers are random uniform\ngmm.covariances_ = rnd.uniform(low=15., high=18., size=(n_components, 2))  # same for covariance matrices\n\nsamples, labels = gmm.sample(50000)  # generate data\n\nestimators = [\n    ('k-Means with uniform initialization', KMeans(\n        n_clusters=100,  # place 100 cluster centers\n        init_strategy='uniform',  # uniform initialization strategy\n        fixed_seed=13,\n        n_jobs=8)\n     ),\n    ('k-Means with k-means++ initialization', KMeans(\n        n_clusters=100,  # place 100 cluster centers\n        init_strategy='kmeans++',  # uniform initialization strategy\n        fixed_seed=13,\n        n_jobs=8)\n     ),\n    ('Regular space clustering', RegularSpace(\n        dmin=3,  # minimum distance between cluster centers\n        max_centers=300,  # maximum number of cluster centers\n        n_jobs=8)\n     )\n]\n\nf, axes = plt.subplots(3, 2, figsize=(15, 15))\n\nfor i, (label, estimator) in enumerate(estimators):\n    clustering = estimator.fit(samples).fetch_model()\n    ax1 = axes[i][0]\n    ax2 = axes[i][1]\n\n    ax1.hexbin(*samples.T, bins='log')\n    ax1.scatter(*clustering.cluster_centers.T, marker='o', c='m')\n    ax1.axis('off')\n    ax1.set_title(label + ': cluster centers')\n\n    ax2.scatter(*samples[::10].T, c=clustering.transform(samples)[::10])\n    ax2.axis('off')\n    ax2.set_title(label + ': assignments')"
      ]
    }
  ],
  "metadata": {
    "kernelspec": {
      "display_name": "Python 3",
      "language": "python",
      "name": "python3"
    },
    "language_info": {
      "codemirror_mode": {
        "name": "ipython",
        "version": 3
      },
      "file_extension": ".py",
      "mimetype": "text/x-python",
      "name": "python",
      "nbconvert_exporter": "python",
      "pygments_lexer": "ipython3",
      "version": "3.8.10"
    }
  },
  "nbformat": 4,
  "nbformat_minor": 0
}