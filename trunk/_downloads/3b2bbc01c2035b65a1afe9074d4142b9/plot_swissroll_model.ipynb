{
  "cells": [
    {
      "cell_type": "code",
      "execution_count": null,
      "metadata": {
        "collapsed": false
      },
      "outputs": [],
      "source": [
        "%matplotlib inline"
      ]
    },
    {
      "cell_type": "markdown",
      "metadata": {},
      "source": [
        "\n# Swissroll model\n\nSample a hidden state and an swissroll-transformed emission trajectory.\nDemonstrates :meth:`deeptime.data.swissroll_model`.\n"
      ]
    },
    {
      "cell_type": "code",
      "execution_count": null,
      "metadata": {
        "collapsed": false
      },
      "outputs": [],
      "source": [
        "import matplotlib.pyplot as plt\nfrom matplotlib import animation\n\nfrom deeptime.data import swissroll_model\n\nn_samples = 500\ndtraj, traj = swissroll_model(n_samples)\n\nfig = plt.figure()\nax = fig.add_subplot(111, projection='3d')\n\n\ndef init():\n    ax.scatter(*traj.T, marker='o', s=20, c=dtraj, alpha=0.6)\n    return fig,\n\n\ndef animate(i):\n    ax.view_init(elev=10., azim=3*i)\n    return fig,\n\n\n# Animate\nanim = animation.FuncAnimation(fig, animate, init_func=init,\n                               frames=120, interval=40, blit=False)"
      ]
    }
  ],
  "metadata": {
    "kernelspec": {
      "display_name": "Python 3",
      "language": "python",
      "name": "python3"
    },
    "language_info": {
      "codemirror_mode": {
        "name": "ipython",
        "version": 3
      },
      "file_extension": ".py",
      "mimetype": "text/x-python",
      "name": "python",
      "nbconvert_exporter": "python",
      "pygments_lexer": "ipython3",
      "version": "3.9.10"
    }
  },
  "nbformat": 4,
  "nbformat_minor": 0
}