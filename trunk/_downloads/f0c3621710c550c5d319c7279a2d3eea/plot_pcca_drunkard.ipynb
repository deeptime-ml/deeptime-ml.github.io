{
  "cells": [
    {
      "cell_type": "code",
      "execution_count": null,
      "metadata": {
        "collapsed": false
      },
      "outputs": [],
      "source": [
        "%matplotlib inline"
      ]
    },
    {
      "cell_type": "markdown",
      "metadata": {},
      "source": [
        "\n# PCCA+ on the Drunkard's walk example\n\nThis example shows a decomposition into metastable sets (see :meth:`deeptime.markov.pcca`) of states\nin the :meth:`deeptime.data.drunkards_walk` example.\nThe state assignments are shown via their probability distributions over the micro states.\n"
      ]
    },
    {
      "cell_type": "code",
      "execution_count": null,
      "metadata": {
        "collapsed": false
      },
      "outputs": [],
      "source": [
        "import matplotlib as mpl\nimport matplotlib.pyplot as plt\n\nfrom deeptime.data import drunkards_walk\n\nsim = drunkards_walk(grid_size=(10, 10),\n                     bar_location=[(0, 0), (0, 1), (1, 0), (1, 1)],\n                     home_location=[(8, 8), (8, 9), (9, 8), (9, 9)])\nsim.add_barrier((5, 1), (5, 5))\nsim.add_barrier((0, 9), (5, 8))\nsim.add_barrier((9, 2), (7, 6))\nsim.add_barrier((2, 6), (5, 6))\n\nsim.add_barrier((7, 9), (7, 7), weight=5.)\nsim.add_barrier((8, 7), (9, 7), weight=5.)\n\nsim.add_barrier((0, 2), (2, 2), weight=5.)\nsim.add_barrier((2, 0), (2, 1), weight=5.)\n\npcca = sim.msm.pcca(6)\n\nfig, axes = plt.subplots(2, 3, figsize=(15, 10), sharex=True, sharey=True)\n\nfor i, ax in enumerate(axes.flatten()):\n    ax.set_title(f\"Memberships for metastable set {i + 1}\")\n    handles, labels = sim.plot_2d_map(ax, barrier_mode='hollow')\n\n    Q = pcca.memberships[:, i].reshape(sim.grid_size)\n    cb = ax.imshow(Q, interpolation='nearest', origin='lower', cmap=plt.cm.Blues)\nnorm = mpl.colors.Normalize(vmin=0, vmax=1)\nfig.colorbar(plt.cm.ScalarMappable(norm=norm, cmap=plt.cm.Blues), ax=axes, shrink=.8)"
      ]
    }
  ],
  "metadata": {
    "kernelspec": {
      "display_name": "Python 3",
      "language": "python",
      "name": "python3"
    },
    "language_info": {
      "codemirror_mode": {
        "name": "ipython",
        "version": 3
      },
      "file_extension": ".py",
      "mimetype": "text/x-python",
      "name": "python",
      "nbconvert_exporter": "python",
      "pygments_lexer": "ipython3",
      "version": "3.9.10"
    }
  },
  "nbformat": 4,
  "nbformat_minor": 0
}