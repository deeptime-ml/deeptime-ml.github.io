{
  "cells": [
    {
      "cell_type": "code",
      "execution_count": null,
      "metadata": {
        "collapsed": false
      },
      "outputs": [],
      "source": [
        "%matplotlib inline"
      ]
    },
    {
      "cell_type": "markdown",
      "metadata": {},
      "source": [
        "\n# Lorenz system\n\nThe Lorenz system. See :meth:`deeptime.data.lorenz_system`.\n"
      ]
    },
    {
      "cell_type": "code",
      "execution_count": null,
      "metadata": {
        "collapsed": false
      },
      "outputs": [],
      "source": [
        "import deeptime\nimport numpy as np\nimport matplotlib.pyplot as plt\nfrom mpl_toolkits.mplot3d.art3d import Line3DCollection\n\nsystem = deeptime.data.lorenz_system()\nx0 = np.array([[8, 7, 15]])\ntraj = system.trajectory(x0, 3500)\n\nax = plt.figure().add_subplot(projection='3d')\nax.scatter(*x0.T, color='blue', label=r\"$t_\\mathrm{start}$\")\nax.scatter(*traj[-1].T, color='red', label=r\"$t_\\mathrm{final}$\")\n\npoints = traj.reshape((-1, 1, 3))\nsegments = np.concatenate([points[:-1], points[1:]], axis=1)\ncoll = Line3DCollection(segments, cmap='coolwarm')\ncoll.set_array(np.linspace(0, 1, num=len(points), endpoint=True))\ncoll.set_linewidth(2)\nax.add_collection(coll)\nax.set_xlim3d((-19, 19))\nax.set_ylim3d((-26, 26))\nax.set_zlim3d((0, 45))\nax.set_box_aspect(np.ptp(traj, axis=0))\nax.legend()"
      ]
    }
  ],
  "metadata": {
    "kernelspec": {
      "display_name": "Python 3",
      "language": "python",
      "name": "python3"
    },
    "language_info": {
      "codemirror_mode": {
        "name": "ipython",
        "version": 3
      },
      "file_extension": ".py",
      "mimetype": "text/x-python",
      "name": "python",
      "nbconvert_exporter": "python",
      "pygments_lexer": "ipython3",
      "version": "3.10.6"
    }
  },
  "nbformat": 4,
  "nbformat_minor": 0
}