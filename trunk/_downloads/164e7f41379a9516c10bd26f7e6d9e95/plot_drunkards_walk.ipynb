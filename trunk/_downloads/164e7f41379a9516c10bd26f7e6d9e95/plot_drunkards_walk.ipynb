{
  "cells": [
    {
      "cell_type": "code",
      "execution_count": null,
      "metadata": {
        "collapsed": false
      },
      "outputs": [],
      "source": [
        "%matplotlib inline"
      ]
    },
    {
      "cell_type": "markdown",
      "metadata": {},
      "source": [
        "\n# Drunkard's walk\n\nThe :meth:`deeptime.data.drunkards_walk` model, a markov state model on a 2-dimensional grid.\n"
      ]
    },
    {
      "cell_type": "code",
      "execution_count": null,
      "metadata": {
        "collapsed": false
      },
      "outputs": [],
      "source": [
        "import matplotlib.pyplot as plt\n\nfrom deeptime.data import drunkards_walk\n\nsim = drunkards_walk(grid_size=(10, 10),\n                     bar_location=[(0, 0), (0, 1), (1, 0), (1, 1)],\n                     home_location=[(8, 8), (8, 9), (9, 8), (9, 9)])\n\nsim.add_barrier((5, 1), (5, 5))\nsim.add_barrier((0, 9), (5, 8))\nsim.add_barrier((9, 2), (7, 6))\nsim.add_barrier((2, 6), (5, 6))\n\nsim.add_barrier((7, 9), (7, 7), weight=5.)\nsim.add_barrier((8, 7), (9, 7), weight=5.)\n\nsim.add_barrier((0, 2), (2, 2), weight=5.)\nsim.add_barrier((2, 0), (2, 1), weight=5.)\n\nstart = (7, 2)\nwalk = sim.walk(start=start, n_steps=250, seed=40)\nprint(\"Number of steps in the walk:\", len(walk))\n\nfig, ax = plt.subplots(figsize=(10, 10))\n\nax.scatter(*start, marker='*', label='Start', c='cyan', s=150, zorder=5)\nsim.plot_path(ax, walk)\nhandles, labels = sim.plot_2d_map(ax)\nax.legend(handles=handles, labels=labels)"
      ]
    }
  ],
  "metadata": {
    "kernelspec": {
      "display_name": "Python 3",
      "language": "python",
      "name": "python3"
    },
    "language_info": {
      "codemirror_mode": {
        "name": "ipython",
        "version": 3
      },
      "file_extension": ".py",
      "mimetype": "text/x-python",
      "name": "python",
      "nbconvert_exporter": "python",
      "pygments_lexer": "ipython3",
      "version": "3.9.6"
    }
  },
  "nbformat": 4,
  "nbformat_minor": 0
}