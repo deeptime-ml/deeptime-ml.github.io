{
  "cells": [
    {
      "cell_type": "code",
      "execution_count": null,
      "metadata": {
        "collapsed": false
      },
      "outputs": [],
      "source": [
        "%matplotlib inline"
      ]
    },
    {
      "cell_type": "markdown",
      "metadata": {},
      "source": [
        "\n# Energy surface\n\nWe show how to plot a two-dimensional energy surface based on :meth:`util.energy2d <deeptime.util.energy2d>`\nand :meth:`plots.plot_energy2d <deeptime.plots.plot_energy2d>`.\n"
      ]
    },
    {
      "cell_type": "code",
      "execution_count": null,
      "metadata": {
        "collapsed": false
      },
      "outputs": [],
      "source": [
        "import numpy as np\n\nfrom deeptime.data import triple_well_2d\nfrom deeptime.clustering import KMeans\nfrom deeptime.markov.msm import MaximumLikelihoodMSM\nfrom deeptime.util import energy2d\nfrom deeptime.plots import plot_energy2d\n\ntrajs = triple_well_2d(h=1e-3, n_steps=100).trajectory(x0=[[-1, 0], [1, 0], [0, 0]], length=5000)\ntraj_concat = np.concatenate(trajs, axis=0)\nclustering = KMeans(n_clusters=20).fit_fetch(traj_concat)\ndtrajs = [clustering.transform(traj) for traj in trajs]\nmsm = MaximumLikelihoodMSM(lagtime=1).fit_fetch(dtrajs)\nweights = msm.compute_trajectory_weights(np.concatenate(dtrajs))[0]\n\nenergies = energy2d(*traj_concat.T, bins=(80, 20), kbt=1, weights=weights, shift_energy=True)\nplot = plot_energy2d(energies, contourf_kws=dict(cmap='nipy_spectral'))\nplot.colorbar.set_label('energy / kT')"
      ]
    }
  ],
  "metadata": {
    "kernelspec": {
      "display_name": "Python 3",
      "language": "python",
      "name": "python3"
    },
    "language_info": {
      "codemirror_mode": {
        "name": "ipython",
        "version": 3
      },
      "file_extension": ".py",
      "mimetype": "text/x-python",
      "name": "python",
      "nbconvert_exporter": "python",
      "pygments_lexer": "ipython3",
      "version": "3.10.4"
    }
  },
  "nbformat": 4,
  "nbformat_minor": 0
}