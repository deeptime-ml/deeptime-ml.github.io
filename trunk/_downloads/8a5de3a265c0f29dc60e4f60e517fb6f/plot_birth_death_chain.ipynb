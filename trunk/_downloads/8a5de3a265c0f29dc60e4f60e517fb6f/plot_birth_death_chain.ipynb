{
  "cells": [
    {
      "cell_type": "code",
      "execution_count": null,
      "metadata": {
        "collapsed": false
      },
      "outputs": [],
      "source": [
        "%matplotlib inline"
      ]
    },
    {
      "cell_type": "markdown",
      "metadata": {},
      "source": [
        "\n# Birth-death chain model\n\nExample for the :meth:`deeptime.data.birth_death_chain` model.\n"
      ]
    },
    {
      "cell_type": "code",
      "execution_count": null,
      "metadata": {
        "collapsed": false
      },
      "outputs": [],
      "source": [
        "import numpy as np\nimport matplotlib.pyplot as plt\n\nfrom deeptime.data import birth_death_chain\n\nn_states = 7\nb = 2\nq = np.zeros(n_states)\np = np.zeros(n_states)\nq[1:] = 0.5\np[0:-1] = 0.5\nq[2] = 1.0 - 10 ** (-b)\nq[4] = 10 ** (-b)\np[2] = 10 ** (-b)\np[4] = 1.0 - 10 ** (-b)\n\nbd = birth_death_chain(q, p)\ndtraj = bd.msm.simulate(100000)\n\nbins = np.arange(0, dtraj.max() + 1.5) - 0.5\n\nfig, ax = plt.subplots()\nax.set_xticks(bins + 0.5)\nax.vlines(bins, ymin=0, ymax=.3, zorder=1, color='black', linestyles='dashed')\nax.hist(dtraj, bins, density=True, alpha=.5, color='C0', label='Empirical distribution')\nax.bar(np.arange(n_states), bd.stationary_distribution, color='C1', alpha=.5, label='Stationary distribution')\nax.set_xlabel('State')\nax.set_ylabel('State population')\nax.legend(loc='upper center', bbox_to_anchor=(0.5, 1.05), ncol=1, fancybox=True, shadow=True)\nplt.show()"
      ]
    }
  ],
  "metadata": {
    "kernelspec": {
      "display_name": "Python 3",
      "language": "python",
      "name": "python3"
    },
    "language_info": {
      "codemirror_mode": {
        "name": "ipython",
        "version": 3
      },
      "file_extension": ".py",
      "mimetype": "text/x-python",
      "name": "python",
      "nbconvert_exporter": "python",
      "pygments_lexer": "ipython3",
      "version": "3.9.7"
    }
  },
  "nbformat": 4,
  "nbformat_minor": 0
}