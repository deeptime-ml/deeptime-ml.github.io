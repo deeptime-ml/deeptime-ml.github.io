{
  "cells": [
    {
      "cell_type": "code",
      "execution_count": null,
      "metadata": {
        "collapsed": false
      },
      "outputs": [],
      "source": [
        "%matplotlib inline"
      ]
    },
    {
      "cell_type": "markdown",
      "metadata": {},
      "source": [
        "\n# Time-dependent quintuple well\n\nDemonstrates :meth:`deeptime.data.time_dependent_quintuple_well`. The potential wells slowly oscillate around the\norigin.\n"
      ]
    },
    {
      "cell_type": "code",
      "execution_count": null,
      "metadata": {
        "collapsed": false
      },
      "outputs": [],
      "source": [
        "import matplotlib.pyplot as plt\nimport numpy as np\nfrom matplotlib import animation\n\nfrom deeptime.data import time_dependent_quintuple_well\n\nrandom_state = np.random.RandomState(33)\n\ncmap = plt.cm.viridis\n\nsystem = time_dependent_quintuple_well(h=1e-4, n_steps=100, beta=5)\nx = np.arange(-2.5, 2.5, 0.1)\ny = np.arange(-2.5, 2.5, 0.1)\nxy = np.meshgrid(x, y)\n\nx0 = random_state.uniform(-2.5, 2.5, size=(100, 2))\ntrajs = system.trajectory(0., x0, length=500)\n\nl = []\nfor t in np.arange(0., 20., 0.01):\n    V = system.potential(t, np.dstack(xy).reshape(-1, 2)).reshape(xy[0].shape)\n    l.append(V)\nl = np.stack(l)\n\nvmin = np.min(l)\nvmax = np.max(l)\n\nfig, ax = plt.subplots()\nax.set_xlim([np.min(xy[0]), np.max(xy[0])])\nax.set_ylim([np.min(xy[1]), np.max(xy[1])])\nhandle = ax.contourf(*xy, l[0], vmin=vmin, vmax=vmax, cmap=cmap, levels=1000)\nscatter_handle = ax.scatter(*trajs[:, 0].T, color='red', zorder=100)\nhandles = [scatter_handle, handle]\n\n\ndef update(i):\n    out = [scatter_handle]\n    handles[0].set_offsets(trajs[:, i])\n    for tp in handles[1].collections:\n        tp.remove()\n    handles[1] = ax.contourf(*xy, l[i], vmin=vmin, vmax=vmax, cmap=cmap)\n    out += handles[1].collections\n    return out\n\n\nani = animation.FuncAnimation(fig, update, interval=50, blit=True, repeat=True, frames=trajs.shape[1])\nplt.show()"
      ]
    }
  ],
  "metadata": {
    "kernelspec": {
      "display_name": "Python 3",
      "language": "python",
      "name": "python3"
    },
    "language_info": {
      "codemirror_mode": {
        "name": "ipython",
        "version": 3
      },
      "file_extension": ".py",
      "mimetype": "text/x-python",
      "name": "python",
      "nbconvert_exporter": "python",
      "pygments_lexer": "ipython3",
      "version": "3.8.10"
    }
  },
  "nbformat": 4,
  "nbformat_minor": 0
}