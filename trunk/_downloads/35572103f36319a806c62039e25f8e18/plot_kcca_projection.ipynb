{
  "cells": [
    {
      "cell_type": "code",
      "execution_count": null,
      "metadata": {
        "collapsed": false
      },
      "outputs": [],
      "source": [
        "%matplotlib inline"
      ]
    },
    {
      "cell_type": "markdown",
      "metadata": {},
      "source": [
        "\n# Kernel CCA on the sqrt-Model to transform data\n\nThis example shows an application of :class:`KernelCCA <deeptime.decomposition.KernelCCA>` on the\n:meth:`sqrt model <deeptime.data.sqrt_model>` dataset. We transform the data by evaluating the estimated eigenfunctions\ninto a (quasi) linearly separable space. Crisp assignments are obtained by :class:`KMeans <deeptime.cluster.KMeans>`\nclustering.\n"
      ]
    },
    {
      "cell_type": "code",
      "execution_count": null,
      "metadata": {
        "collapsed": false
      },
      "outputs": [],
      "source": [
        "import numpy as np\nimport matplotlib as mpl\nimport matplotlib.pyplot as plt\n\nfrom deeptime.clustering import KMeans\nfrom deeptime.data import sqrt_model\nfrom deeptime.decomposition import KernelCCA\nfrom deeptime.kernels import GaussianKernel\n\ndtraj, obs = sqrt_model(1500)\ndtraj_test, obs_test = sqrt_model(5000)\n\nkernel = GaussianKernel(2.)\nest = KernelCCA(kernel, n_eigs=2)\nmodel = est.fit((obs[1:], obs[:-1])).fetch_model()\nevals = model.transform(obs_test)\nclustering = KMeans(2).fit(np.real(model.transform(obs))).fetch_model()\nassignments = clustering.transform(np.real(evals))\n\nn_mismatch = np.sum(np.abs(assignments - dtraj_test))\nassignments_perm = np.where((assignments == 0) | (assignments == 1), assignments ^ 1, assignments)\nn_mismatch_perm = np.sum(np.abs(assignments_perm - dtraj_test))\n\nif n_mismatch_perm < n_mismatch:\n    assignments = assignments_perm\n    n_mismatch = n_mismatch_perm\n\nf, ((ax1, ax2), (ax3, ax4)) = plt.subplots(2, 2, figsize=(14, 14))\nax1.set_title(f\"Discrete states vs. estimated discrete states,\\n\"\n              f\"{(len(dtraj_test) - n_mismatch) / len(dtraj_test):.3f}% correctly assigned\")\nax1.plot(assignments[:150], label=\"Estimated assignments\")\nax1.plot(dtraj_test[:150], 'x', label=\"Ground truth\")\nax1.set_xlabel(\"time\")\nax1.set_ylabel(\"state\")\nax1.legend()\n\n\ndef plot_scatter(ax, states, observations, obs_ref=None):\n    mask = np.zeros(states.shape, dtype=bool)\n    mask[np.where(states == 0)] = True\n    if obs_ref is None:\n        ax.scatter(*observations[mask].T, color='green', label='State 1')\n        ax.scatter(*observations[~mask].T, color='blue', label='State 2')\n        ax.legend()\n    else:\n        scatter1 = ax.scatter(*observations[mask].T, cmap=mpl.cm.get_cmap('Greens'), c=obs_ref[mask][:, 1])\n        scatter2 = ax.scatter(*observations[~mask].T, cmap=mpl.cm.get_cmap('Blues'), c=obs_ref[~mask][:, 1])\n        h1, l1 = scatter1.legend_elements(num=1)\n        h2, l2 = scatter2.legend_elements(num=1)\n        ax.add_artist(ax.legend(handles=h1 + h2, labels=[\"State 1\", \"State 2\"]))\n\n\nax2.set_title(\"Observed test data colored by estimated state assignment\")\nplot_scatter(ax2, assignments, obs_test)\n\nax3.set_title(\"Test data, colored by ground truth\")\nplot_scatter(ax3, dtraj_test, obs_test, obs_test)\n\nax4.set_title(\"Transformation of test data, colored by ground truth\")\nplot_scatter(ax4, dtraj_test, evals, obs_test)"
      ]
    }
  ],
  "metadata": {
    "kernelspec": {
      "display_name": "Python 3",
      "language": "python",
      "name": "python3"
    },
    "language_info": {
      "codemirror_mode": {
        "name": "ipython",
        "version": 3
      },
      "file_extension": ".py",
      "mimetype": "text/x-python",
      "name": "python",
      "nbconvert_exporter": "python",
      "pygments_lexer": "ipython3",
      "version": "3.9.10"
    }
  },
  "nbformat": 4,
  "nbformat_minor": 0
}