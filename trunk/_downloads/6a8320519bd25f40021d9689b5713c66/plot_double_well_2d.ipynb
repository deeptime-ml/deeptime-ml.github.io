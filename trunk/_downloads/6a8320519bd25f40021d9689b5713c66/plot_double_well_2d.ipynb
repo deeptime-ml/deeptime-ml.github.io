{
  "cells": [
    {
      "cell_type": "code",
      "execution_count": null,
      "metadata": {
        "collapsed": false
      },
      "outputs": [],
      "source": [
        "%matplotlib inline"
      ]
    },
    {
      "cell_type": "markdown",
      "metadata": {},
      "source": [
        "\n# Double-well 2D\n\nExample for the :meth:`deeptime.data.double_well_2d` dataset.\n"
      ]
    },
    {
      "cell_type": "code",
      "execution_count": null,
      "metadata": {
        "collapsed": false
      },
      "outputs": [],
      "source": [
        "import numpy as np\nimport scipy\nimport matplotlib.pyplot as plt\nfrom matplotlib.collections import LineCollection\n\nfrom deeptime.data import double_well_2d\n\nsystem = double_well_2d(n_steps=10000, temperature_factor=0.5, mass=0.5)\ntraj = system.trajectory(np.array([[-1, 0]]), 20, seed=42)\n\nx = np.arange(-2, 2, 0.01)\ny = np.arange(-3, 3, 0.01)\nxy = np.meshgrid(x, y)\nV = system.potential(np.dstack(xy).reshape(-1, 2)).reshape(xy[0].shape)\n\nfig, ax = plt.subplots(1, 1)\nax.set_title(\"Example of a trajectory in the potential landscape\")\n\ncb = ax.contourf(x, y, V, levels=40, cmap='coolwarm')\n\nx = np.r_[traj[:, 0]]\ny = np.r_[traj[:, 1]]\nf, u = scipy.interpolate.splprep([x, y], s=0, per=False)\nxint, yint = scipy.interpolate.splev(np.linspace(0, 1, 50000), f)\n\npoints = np.stack([xint, yint]).T.reshape(-1, 1, 2)\nsegments = np.concatenate([points[:-1], points[1:]], axis=1)\ncoll = LineCollection(segments, cmap='jet')\ncoll.set_array(np.linspace(0, 1, num=len(points), endpoint=True))\ncoll.set_linewidth(1)\nax.add_collection(coll)\n\nfig.colorbar(cb)\nplt.show()"
      ]
    }
  ],
  "metadata": {
    "kernelspec": {
      "display_name": "Python 3",
      "language": "python",
      "name": "python3"
    },
    "language_info": {
      "codemirror_mode": {
        "name": "ipython",
        "version": 3
      },
      "file_extension": ".py",
      "mimetype": "text/x-python",
      "name": "python",
      "nbconvert_exporter": "python",
      "pygments_lexer": "ipython3",
      "version": "3.9.10"
    }
  },
  "nbformat": 4,
  "nbformat_minor": 0
}