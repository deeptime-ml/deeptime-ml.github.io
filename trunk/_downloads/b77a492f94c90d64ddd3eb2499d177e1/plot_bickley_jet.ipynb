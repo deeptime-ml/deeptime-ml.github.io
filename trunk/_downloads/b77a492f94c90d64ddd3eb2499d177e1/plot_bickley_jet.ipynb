{
  "cells": [
    {
      "cell_type": "code",
      "execution_count": null,
      "metadata": {
        "collapsed": false
      },
      "outputs": [],
      "source": [
        "%matplotlib inline"
      ]
    },
    {
      "cell_type": "markdown",
      "metadata": {},
      "source": [
        "\n# Bickley Jet\n\nThe :meth:`deeptime.data.bickley_jet` dataset.\n"
      ]
    },
    {
      "cell_type": "code",
      "execution_count": null,
      "metadata": {
        "collapsed": false
      },
      "outputs": [],
      "source": [
        "# sphinx_gallery_thumbnail_number = 1\n\nimport matplotlib.pyplot as plt\nimport numpy as np\n\nfrom deeptime.data import bickley_jet\n\nn_particles = 250\ndataset = bickley_jet(n_particles, n_jobs=8)\nc = np.copy(dataset[0, :, 0])\nc /= c.max()\n\nfig, ax = plt.subplots(1, 1, figsize=(6, 4))\nani = dataset.make_animation(c=c, agg_backend=False, interval=75, fig=fig, ax=ax, max_frame=100)"
      ]
    }
  ],
  "metadata": {
    "kernelspec": {
      "display_name": "Python 3",
      "language": "python",
      "name": "python3"
    },
    "language_info": {
      "codemirror_mode": {
        "name": "ipython",
        "version": 3
      },
      "file_extension": ".py",
      "mimetype": "text/x-python",
      "name": "python",
      "nbconvert_exporter": "python",
      "pygments_lexer": "ipython3",
      "version": "3.9.10"
    }
  },
  "nbformat": 4,
  "nbformat_minor": 0
}