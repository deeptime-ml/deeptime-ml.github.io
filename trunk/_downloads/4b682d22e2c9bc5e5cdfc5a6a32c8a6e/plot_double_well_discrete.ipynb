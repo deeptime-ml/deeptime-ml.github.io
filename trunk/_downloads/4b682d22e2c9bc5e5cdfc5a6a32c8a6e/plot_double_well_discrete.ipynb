{
  "cells": [
    {
      "cell_type": "code",
      "execution_count": null,
      "metadata": {
        "collapsed": false
      },
      "outputs": [],
      "source": [
        "%matplotlib inline"
      ]
    },
    {
      "cell_type": "markdown",
      "metadata": {},
      "source": [
        "\n# Double-well discrete\n\nShowcase use of the :meth:`deeptime.data.double_well_discrete` dataset.\n"
      ]
    },
    {
      "cell_type": "code",
      "execution_count": null,
      "metadata": {
        "collapsed": false
      },
      "outputs": [],
      "source": [
        "import matplotlib.pyplot as plt\nimport numpy as np\n\nfrom deeptime.data import double_well_discrete\n\ndwd = double_well_discrete()\nn_states = dwd.analytic_msm.n_states\n\ndivides = [40, 45, 50, 55, 60]\ndtraj = dwd.dtraj_n(divides)\ndivides = np.array([0] + divides + [n_states])\nf, ax = plt.subplots(1, 1)\nf.suptitle(\"Discrete double well with good\\ndiscretization of transition region\")\nax.hist(divides[dtraj], divides, density=True, alpha=.5, color='C0', edgecolor='black', label='Empirical distribution')\nax.bar(np.arange(n_states), dwd.analytic_msm.stationary_distribution, color='C1', alpha=.5,\n       label='Stationary distribution')\nplt.legend()\nplt.show()"
      ]
    }
  ],
  "metadata": {
    "kernelspec": {
      "display_name": "Python 3",
      "language": "python",
      "name": "python3"
    },
    "language_info": {
      "codemirror_mode": {
        "name": "ipython",
        "version": 3
      },
      "file_extension": ".py",
      "mimetype": "text/x-python",
      "name": "python",
      "nbconvert_exporter": "python",
      "pygments_lexer": "ipython3",
      "version": "3.8.10"
    }
  },
  "nbformat": 4,
  "nbformat_minor": 0
}